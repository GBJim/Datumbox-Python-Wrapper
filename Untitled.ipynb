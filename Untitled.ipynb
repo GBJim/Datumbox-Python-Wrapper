{
 "cells": [
  {
   "cell_type": "code",
   "execution_count": 1,
   "metadata": {
    "collapsed": false
   },
   "outputs": [
    {
     "data": {
      "text/plain": [
       "#<Datumbox:0x00000002cfb168 @api_key=\"cb4d8de407184a58e5b0eab1424ab7d1\">"
      ]
     },
     "execution_count": 1,
     "metadata": {},
     "output_type": "execute_result"
    }
   ],
   "source": [
    "require 'rest-client'\n",
    "require 'json'\n",
    "require 'mongo'\n",
    "\n",
    "# Datumbox Wrapper.\n",
    "# Before use it, you must register yourself at Datumbox site\n",
    "# and get your API Key.\n",
    "#\n",
    "# Create an instance of this class calling \"Datumbox.create(api_key)\".\n",
    "#\n",
    "# Author: Pedro Damian Kostelec\n",
    "# \n",
    "# Some of the available methods are:\n",
    "# (See the API documentation [http://www.datumbox.com/api-sandbox/] for an exhaustive list of methods)\n",
    "#\n",
    "# sentiment_analysis(text)\n",
    "#   Classifies \"text\" as positive, negative or neutral.\n",
    "#\n",
    "# subjective_analysis(text)\n",
    "#   Categorizes \"text\" as subjective or objective based on writing style.\n",
    "#   Texts that express personal opinions are labeled as subjective and the others as objective.\n",
    "#\n",
    "# spam_detection(text)\n",
    "#   Labels documents as spam or nospam by taking into account their context.\n",
    "#\n",
    "# adult_content_detection(text)\n",
    "#   Classifies documents as adult or noadult based on their context.\n",
    "#\n",
    "# topic_classification(text)\n",
    "#   Assigns documents in 12 thematic categories based on ther keywords, idioms and jargon.\n",
    "#\n",
    "# language_detection(text)\n",
    "#   Identifies the natural language of the given text based on its words and context.\n",
    "#\n",
    "# twitter_sentiment_analysis(text)\n",
    "#   Classifies \"text\" as positive, negative or neutral.\n",
    "#\n",
    "# keyword_extraction(text, n)\n",
    "#   Enables you to extract from an arbitrary document all the keywords and word\n",
    "#   combinations along with their occurrences in the text.\n",
    "#\n",
    "# document_similarity(original, copy)\n",
    "#   Estimates the degree of similarity between two documents.\n",
    "\n",
    "class Datumbox\n",
    "\n",
    "  BASE_URI = 'http://api.datumbox.com/'\n",
    "  API_VERSION = '1.0'\n",
    " \n",
    "  def initialize(api_key)\n",
    "    @api_key = api_key\n",
    "  end\n",
    "\n",
    "  # Get a Wrapper instance to access the Datumbox service.\n",
    "  # You must give your API Key once.\n",
    "  #\n",
    "  def self.create(api_key)\n",
    "    Datumbox.new(api_key)\n",
    "  end\n",
    "\n",
    "  def request(method, opts)\n",
    "    options = { api_key: @api_key }.merge opts\n",
    "    RestClient.post \"#{BASE_URI}#{API_VERSION}/#{method}.json\", options\n",
    "  end\n",
    "\n",
    "  def method_missing(method_id, opts, &block)\n",
    "    begin\n",
    "      response = request(method_id.id2name.camelize, opts)\n",
    "      \n",
    "      # If the response is successful, and that API method exists\n",
    "      # and defines the method, for any future calls to be faster\n",
    "      json = JSON.parse(response)\n",
    "      self.class.send(:define_method, method_id) do |args|\n",
    "        request(method_id.id2name.camelize, args)\n",
    "      end if json['output']['status'] == 1\n",
    "\n",
    "      return response\n",
    "    rescue\n",
    "      super\n",
    "    end\n",
    "  end\n",
    "\n",
    "end\n",
    "\n",
    "class String\n",
    "  def camelize\n",
    "    self.split(\"_\").each {|s| s.capitalize! }.join(\"\")\n",
    "  end\n",
    "  def camelize!\n",
    "    self.replace(self.split(\"_\").each {|s| s.capitalize! }.join(\"\"))\n",
    "  end\n",
    "end unless String.new.respond_to?(:camelize)\n",
    "\n",
    "\n",
    "\n",
    "positive_tweet = \"Also, @xDaniielle has understood she can't beat me playing GTA. So instead, she's grabbing a copy too. I have an amazing girlfriend :D\"\n",
    "\n",
    "negative_tweet = \"Gah! I hate programming. Been pissing me off all day. Time to go sit on the sofa in a huff with a beer :(\"\n",
    "\n",
    "\n",
    "\n",
    "api_key = \"cb4d8de407184a58e5b0eab1424ab7d1\"\n",
    "x = Datumbox.create(api_key)\n",
    "\n",
    "\n",
    "\n"
   ]
  },
  {
   "cell_type": "code",
   "execution_count": 8,
   "metadata": {
    "collapsed": false
   },
   "outputs": [
    {
     "data": {
      "text/plain": [
       "\"{\\\"output\\\":{\\\"status\\\":1,\\\"result\\\":\\\"negative\\\"}}\""
      ]
     },
     "execution_count": 8,
     "metadata": {},
     "output_type": "execute_result"
    }
   ],
   "source": [
    "z = x.twitter_sentiment_analysis(text: negative_tweet)"
   ]
  },
  {
   "cell_type": "code",
   "execution_count": 18,
   "metadata": {
    "collapsed": false
   },
   "outputs": [
    {
     "data": {
      "text/plain": [
       "\"negative\""
      ]
     },
     "execution_count": 18,
     "metadata": {},
     "output_type": "execute_result"
    }
   ],
   "source": [
    "\n",
    "z['output']['result']"
   ]
  },
  {
   "cell_type": "code",
   "execution_count": null,
   "metadata": {
    "collapsed": true
   },
   "outputs": [],
   "source": []
  }
 ],
 "metadata": {
  "kernelspec": {
   "display_name": "Ruby 2.2.1",
   "language": "ruby",
   "name": "ruby"
  },
  "language_info": {
   "file_extension": "rb",
   "mimetype": "application/x-ruby",
   "name": "ruby",
   "version": "2.2.1"
  }
 },
 "nbformat": 4,
 "nbformat_minor": 0
}
